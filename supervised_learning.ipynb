{
 "cells": [
  {
   "cell_type": "markdown",
   "metadata": {
    "toc": true
   },
   "source": [
    "<h1>Содержание<span class=\"tocSkip\"></span></h1>\n",
    "<div class=\"toc\"><ul class=\"toc-item\"><li><span><a href=\"#Подготовка-данных\" data-toc-modified-id=\"Подготовка-данных-1\"><span class=\"toc-item-num\">1&nbsp;&nbsp;</span>Подготовка данных</a></span></li><li><span><a href=\"#Исследование-задачи\" data-toc-modified-id=\"Исследование-задачи-2\"><span class=\"toc-item-num\">2&nbsp;&nbsp;</span>Исследование задачи</a></span></li><li><span><a href=\"#Борьба-с-дисбалансом\" data-toc-modified-id=\"Борьба-с-дисбалансом-3\"><span class=\"toc-item-num\">3&nbsp;&nbsp;</span>Борьба с дисбалансом</a></span></li><li><span><a href=\"#Тестирование-модели\" data-toc-modified-id=\"Тестирование-модели-4\"><span class=\"toc-item-num\">4&nbsp;&nbsp;</span>Тестирование модели</a></span></li><li><span><a href=\"#Чек-лист-готовности-проекта\" data-toc-modified-id=\"Чек-лист-готовности-проекта-5\"><span class=\"toc-item-num\">5&nbsp;&nbsp;</span>Чек-лист готовности проекта</a></span></li></ul></div>"
   ]
  },
  {
   "cell_type": "markdown",
   "metadata": {},
   "source": [
    "# Отток клиентов"
   ]
  },
  {
   "cell_type": "markdown",
   "metadata": {},
   "source": [
    "Из «Бета-Банка» стали уходить клиенты. Каждый месяц. Немного, но заметно. Банковские маркетологи посчитали: сохранять текущих клиентов дешевле, чем привлекать новых.\n",
    "\n",
    "Нужно спрогнозировать, уйдёт клиент из банка в ближайшее время или нет. Вам предоставлены исторические данные о поведении клиентов и расторжении договоров с банком. \n",
    "\n",
    "Постройте модель с предельно большим значением *F1*-меры. Чтобы сдать проект успешно, нужно довести метрику до 0.59. Проверьте *F1*-меру на тестовой выборке самостоятельно.\n",
    "\n",
    "Дополнительно измеряйте *AUC-ROC*, сравнивайте её значение с *F1*-мерой.\n",
    "\n",
    "Источник данных: [https://www.kaggle.com/barelydedicated/bank-customer-churn-modeling](https://www.kaggle.com/barelydedicated/bank-customer-churn-modeling)"
   ]
  },
  {
   "cell_type": "markdown",
   "metadata": {},
   "source": [
    "## Подготовка данных"
   ]
  },
  {
   "cell_type": "code",
   "execution_count": 1,
   "metadata": {},
   "outputs": [],
   "source": [
    "import pandas as pd\n",
    "from sklearn.model_selection import train_test_split\n",
    "from sklearn.preprocessing import StandardScaler\n",
    "from sklearn.linear_model import LogisticRegression\n",
    "from sklearn.metrics import f1_score\n",
    "from sklearn.metrics import roc_curve\n",
    "import matplotlib.pyplot as plt\n",
    "from sklearn.metrics import roc_auc_score\n",
    "from sklearn.metrics import accuracy_score\n",
    "from sklearn.utils import shuffle\n",
    "from sklearn.ensemble import RandomForestClassifier\n",
    "from sklearn.tree import DecisionTreeClassifier\n",
    "from sklearn.dummy import DummyClassifier"
   ]
  },
  {
   "cell_type": "code",
   "execution_count": 2,
   "metadata": {},
   "outputs": [
    {
     "data": {
      "text/html": [
       "<div>\n",
       "<style scoped>\n",
       "    .dataframe tbody tr th:only-of-type {\n",
       "        vertical-align: middle;\n",
       "    }\n",
       "\n",
       "    .dataframe tbody tr th {\n",
       "        vertical-align: top;\n",
       "    }\n",
       "\n",
       "    .dataframe thead th {\n",
       "        text-align: right;\n",
       "    }\n",
       "</style>\n",
       "<table border=\"1\" class=\"dataframe\">\n",
       "  <thead>\n",
       "    <tr style=\"text-align: right;\">\n",
       "      <th></th>\n",
       "      <th>RowNumber</th>\n",
       "      <th>CustomerId</th>\n",
       "      <th>Surname</th>\n",
       "      <th>CreditScore</th>\n",
       "      <th>Geography</th>\n",
       "      <th>Gender</th>\n",
       "      <th>Age</th>\n",
       "      <th>Tenure</th>\n",
       "      <th>Balance</th>\n",
       "      <th>NumOfProducts</th>\n",
       "      <th>HasCrCard</th>\n",
       "      <th>IsActiveMember</th>\n",
       "      <th>EstimatedSalary</th>\n",
       "      <th>Exited</th>\n",
       "    </tr>\n",
       "  </thead>\n",
       "  <tbody>\n",
       "    <tr>\n",
       "      <th>0</th>\n",
       "      <td>1</td>\n",
       "      <td>15634602</td>\n",
       "      <td>Hargrave</td>\n",
       "      <td>619</td>\n",
       "      <td>France</td>\n",
       "      <td>Female</td>\n",
       "      <td>42</td>\n",
       "      <td>2.0</td>\n",
       "      <td>0.00</td>\n",
       "      <td>1</td>\n",
       "      <td>1</td>\n",
       "      <td>1</td>\n",
       "      <td>101348.88</td>\n",
       "      <td>1</td>\n",
       "    </tr>\n",
       "    <tr>\n",
       "      <th>1</th>\n",
       "      <td>2</td>\n",
       "      <td>15647311</td>\n",
       "      <td>Hill</td>\n",
       "      <td>608</td>\n",
       "      <td>Spain</td>\n",
       "      <td>Female</td>\n",
       "      <td>41</td>\n",
       "      <td>1.0</td>\n",
       "      <td>83807.86</td>\n",
       "      <td>1</td>\n",
       "      <td>0</td>\n",
       "      <td>1</td>\n",
       "      <td>112542.58</td>\n",
       "      <td>0</td>\n",
       "    </tr>\n",
       "    <tr>\n",
       "      <th>2</th>\n",
       "      <td>3</td>\n",
       "      <td>15619304</td>\n",
       "      <td>Onio</td>\n",
       "      <td>502</td>\n",
       "      <td>France</td>\n",
       "      <td>Female</td>\n",
       "      <td>42</td>\n",
       "      <td>8.0</td>\n",
       "      <td>159660.80</td>\n",
       "      <td>3</td>\n",
       "      <td>1</td>\n",
       "      <td>0</td>\n",
       "      <td>113931.57</td>\n",
       "      <td>1</td>\n",
       "    </tr>\n",
       "    <tr>\n",
       "      <th>3</th>\n",
       "      <td>4</td>\n",
       "      <td>15701354</td>\n",
       "      <td>Boni</td>\n",
       "      <td>699</td>\n",
       "      <td>France</td>\n",
       "      <td>Female</td>\n",
       "      <td>39</td>\n",
       "      <td>1.0</td>\n",
       "      <td>0.00</td>\n",
       "      <td>2</td>\n",
       "      <td>0</td>\n",
       "      <td>0</td>\n",
       "      <td>93826.63</td>\n",
       "      <td>0</td>\n",
       "    </tr>\n",
       "    <tr>\n",
       "      <th>4</th>\n",
       "      <td>5</td>\n",
       "      <td>15737888</td>\n",
       "      <td>Mitchell</td>\n",
       "      <td>850</td>\n",
       "      <td>Spain</td>\n",
       "      <td>Female</td>\n",
       "      <td>43</td>\n",
       "      <td>2.0</td>\n",
       "      <td>125510.82</td>\n",
       "      <td>1</td>\n",
       "      <td>1</td>\n",
       "      <td>1</td>\n",
       "      <td>79084.10</td>\n",
       "      <td>0</td>\n",
       "    </tr>\n",
       "    <tr>\n",
       "      <th>5</th>\n",
       "      <td>6</td>\n",
       "      <td>15574012</td>\n",
       "      <td>Chu</td>\n",
       "      <td>645</td>\n",
       "      <td>Spain</td>\n",
       "      <td>Male</td>\n",
       "      <td>44</td>\n",
       "      <td>8.0</td>\n",
       "      <td>113755.78</td>\n",
       "      <td>2</td>\n",
       "      <td>1</td>\n",
       "      <td>0</td>\n",
       "      <td>149756.71</td>\n",
       "      <td>1</td>\n",
       "    </tr>\n",
       "    <tr>\n",
       "      <th>6</th>\n",
       "      <td>7</td>\n",
       "      <td>15592531</td>\n",
       "      <td>Bartlett</td>\n",
       "      <td>822</td>\n",
       "      <td>France</td>\n",
       "      <td>Male</td>\n",
       "      <td>50</td>\n",
       "      <td>7.0</td>\n",
       "      <td>0.00</td>\n",
       "      <td>2</td>\n",
       "      <td>1</td>\n",
       "      <td>1</td>\n",
       "      <td>10062.80</td>\n",
       "      <td>0</td>\n",
       "    </tr>\n",
       "    <tr>\n",
       "      <th>7</th>\n",
       "      <td>8</td>\n",
       "      <td>15656148</td>\n",
       "      <td>Obinna</td>\n",
       "      <td>376</td>\n",
       "      <td>Germany</td>\n",
       "      <td>Female</td>\n",
       "      <td>29</td>\n",
       "      <td>4.0</td>\n",
       "      <td>115046.74</td>\n",
       "      <td>4</td>\n",
       "      <td>1</td>\n",
       "      <td>0</td>\n",
       "      <td>119346.88</td>\n",
       "      <td>1</td>\n",
       "    </tr>\n",
       "    <tr>\n",
       "      <th>8</th>\n",
       "      <td>9</td>\n",
       "      <td>15792365</td>\n",
       "      <td>He</td>\n",
       "      <td>501</td>\n",
       "      <td>France</td>\n",
       "      <td>Male</td>\n",
       "      <td>44</td>\n",
       "      <td>4.0</td>\n",
       "      <td>142051.07</td>\n",
       "      <td>2</td>\n",
       "      <td>0</td>\n",
       "      <td>1</td>\n",
       "      <td>74940.50</td>\n",
       "      <td>0</td>\n",
       "    </tr>\n",
       "    <tr>\n",
       "      <th>9</th>\n",
       "      <td>10</td>\n",
       "      <td>15592389</td>\n",
       "      <td>H?</td>\n",
       "      <td>684</td>\n",
       "      <td>France</td>\n",
       "      <td>Male</td>\n",
       "      <td>27</td>\n",
       "      <td>2.0</td>\n",
       "      <td>134603.88</td>\n",
       "      <td>1</td>\n",
       "      <td>1</td>\n",
       "      <td>1</td>\n",
       "      <td>71725.73</td>\n",
       "      <td>0</td>\n",
       "    </tr>\n",
       "  </tbody>\n",
       "</table>\n",
       "</div>"
      ],
      "text/plain": [
       "   RowNumber  CustomerId   Surname  CreditScore Geography  Gender  Age  \\\n",
       "0          1    15634602  Hargrave          619    France  Female   42   \n",
       "1          2    15647311      Hill          608     Spain  Female   41   \n",
       "2          3    15619304      Onio          502    France  Female   42   \n",
       "3          4    15701354      Boni          699    France  Female   39   \n",
       "4          5    15737888  Mitchell          850     Spain  Female   43   \n",
       "5          6    15574012       Chu          645     Spain    Male   44   \n",
       "6          7    15592531  Bartlett          822    France    Male   50   \n",
       "7          8    15656148    Obinna          376   Germany  Female   29   \n",
       "8          9    15792365        He          501    France    Male   44   \n",
       "9         10    15592389        H?          684    France    Male   27   \n",
       "\n",
       "   Tenure    Balance  NumOfProducts  HasCrCard  IsActiveMember  \\\n",
       "0     2.0       0.00              1          1               1   \n",
       "1     1.0   83807.86              1          0               1   \n",
       "2     8.0  159660.80              3          1               0   \n",
       "3     1.0       0.00              2          0               0   \n",
       "4     2.0  125510.82              1          1               1   \n",
       "5     8.0  113755.78              2          1               0   \n",
       "6     7.0       0.00              2          1               1   \n",
       "7     4.0  115046.74              4          1               0   \n",
       "8     4.0  142051.07              2          0               1   \n",
       "9     2.0  134603.88              1          1               1   \n",
       "\n",
       "   EstimatedSalary  Exited  \n",
       "0        101348.88       1  \n",
       "1        112542.58       0  \n",
       "2        113931.57       1  \n",
       "3         93826.63       0  \n",
       "4         79084.10       0  \n",
       "5        149756.71       1  \n",
       "6         10062.80       0  \n",
       "7        119346.88       1  \n",
       "8         74940.50       0  \n",
       "9         71725.73       0  "
      ]
     },
     "execution_count": 2,
     "metadata": {},
     "output_type": "execute_result"
    }
   ],
   "source": [
    "#загрузим датасет и выведем первые 10 строк \n",
    "data_raw = pd.read_csv('/datasets/Churn.csv')\n",
    "data_raw.head(10)"
   ]
  },
  {
   "cell_type": "code",
   "execution_count": 3,
   "metadata": {
    "scrolled": false
   },
   "outputs": [
    {
     "name": "stdout",
     "output_type": "stream",
     "text": [
      "<class 'pandas.core.frame.DataFrame'>\n",
      "RangeIndex: 10000 entries, 0 to 9999\n",
      "Data columns (total 14 columns):\n",
      " #   Column           Non-Null Count  Dtype  \n",
      "---  ------           --------------  -----  \n",
      " 0   RowNumber        10000 non-null  int64  \n",
      " 1   CustomerId       10000 non-null  int64  \n",
      " 2   Surname          10000 non-null  object \n",
      " 3   CreditScore      10000 non-null  int64  \n",
      " 4   Geography        10000 non-null  object \n",
      " 5   Gender           10000 non-null  object \n",
      " 6   Age              10000 non-null  int64  \n",
      " 7   Tenure           9091 non-null   float64\n",
      " 8   Balance          10000 non-null  float64\n",
      " 9   NumOfProducts    10000 non-null  int64  \n",
      " 10  HasCrCard        10000 non-null  int64  \n",
      " 11  IsActiveMember   10000 non-null  int64  \n",
      " 12  EstimatedSalary  10000 non-null  float64\n",
      " 13  Exited           10000 non-null  int64  \n",
      "dtypes: float64(3), int64(8), object(3)\n",
      "memory usage: 1.1+ MB\n"
     ]
    }
   ],
   "source": [
    "#выведем информацию по столбцам\n",
    "data_raw.info()"
   ]
  },
  {
   "cell_type": "code",
   "execution_count": 4,
   "metadata": {},
   "outputs": [],
   "source": [
    "#заменим пропуски в столбце Tenure на медианные значения\n",
    "data_raw.loc[data_raw['Tenure'].isna(), 'Tenure'] = data_raw['Tenure'].median()"
   ]
  },
  {
   "cell_type": "code",
   "execution_count": 5,
   "metadata": {},
   "outputs": [
    {
     "data": {
      "text/html": [
       "<div>\n",
       "<style scoped>\n",
       "    .dataframe tbody tr th:only-of-type {\n",
       "        vertical-align: middle;\n",
       "    }\n",
       "\n",
       "    .dataframe tbody tr th {\n",
       "        vertical-align: top;\n",
       "    }\n",
       "\n",
       "    .dataframe thead th {\n",
       "        text-align: right;\n",
       "    }\n",
       "</style>\n",
       "<table border=\"1\" class=\"dataframe\">\n",
       "  <thead>\n",
       "    <tr style=\"text-align: right;\">\n",
       "      <th></th>\n",
       "      <th>RowNumber</th>\n",
       "      <th>CustomerId</th>\n",
       "      <th>CreditScore</th>\n",
       "      <th>Age</th>\n",
       "      <th>Tenure</th>\n",
       "      <th>Balance</th>\n",
       "      <th>NumOfProducts</th>\n",
       "      <th>HasCrCard</th>\n",
       "      <th>IsActiveMember</th>\n",
       "      <th>EstimatedSalary</th>\n",
       "      <th>Exited</th>\n",
       "    </tr>\n",
       "  </thead>\n",
       "  <tbody>\n",
       "    <tr>\n",
       "      <th>count</th>\n",
       "      <td>10000.00000</td>\n",
       "      <td>1.000000e+04</td>\n",
       "      <td>10000.000000</td>\n",
       "      <td>10000.000000</td>\n",
       "      <td>10000.00000</td>\n",
       "      <td>10000.000000</td>\n",
       "      <td>10000.000000</td>\n",
       "      <td>10000.00000</td>\n",
       "      <td>10000.000000</td>\n",
       "      <td>10000.000000</td>\n",
       "      <td>10000.000000</td>\n",
       "    </tr>\n",
       "    <tr>\n",
       "      <th>mean</th>\n",
       "      <td>5000.50000</td>\n",
       "      <td>1.569094e+07</td>\n",
       "      <td>650.528800</td>\n",
       "      <td>38.921800</td>\n",
       "      <td>4.99790</td>\n",
       "      <td>76485.889288</td>\n",
       "      <td>1.530200</td>\n",
       "      <td>0.70550</td>\n",
       "      <td>0.515100</td>\n",
       "      <td>100090.239881</td>\n",
       "      <td>0.203700</td>\n",
       "    </tr>\n",
       "    <tr>\n",
       "      <th>std</th>\n",
       "      <td>2886.89568</td>\n",
       "      <td>7.193619e+04</td>\n",
       "      <td>96.653299</td>\n",
       "      <td>10.487806</td>\n",
       "      <td>2.76001</td>\n",
       "      <td>62397.405202</td>\n",
       "      <td>0.581654</td>\n",
       "      <td>0.45584</td>\n",
       "      <td>0.499797</td>\n",
       "      <td>57510.492818</td>\n",
       "      <td>0.402769</td>\n",
       "    </tr>\n",
       "    <tr>\n",
       "      <th>min</th>\n",
       "      <td>1.00000</td>\n",
       "      <td>1.556570e+07</td>\n",
       "      <td>350.000000</td>\n",
       "      <td>18.000000</td>\n",
       "      <td>0.00000</td>\n",
       "      <td>0.000000</td>\n",
       "      <td>1.000000</td>\n",
       "      <td>0.00000</td>\n",
       "      <td>0.000000</td>\n",
       "      <td>11.580000</td>\n",
       "      <td>0.000000</td>\n",
       "    </tr>\n",
       "    <tr>\n",
       "      <th>25%</th>\n",
       "      <td>2500.75000</td>\n",
       "      <td>1.562853e+07</td>\n",
       "      <td>584.000000</td>\n",
       "      <td>32.000000</td>\n",
       "      <td>3.00000</td>\n",
       "      <td>0.000000</td>\n",
       "      <td>1.000000</td>\n",
       "      <td>0.00000</td>\n",
       "      <td>0.000000</td>\n",
       "      <td>51002.110000</td>\n",
       "      <td>0.000000</td>\n",
       "    </tr>\n",
       "    <tr>\n",
       "      <th>50%</th>\n",
       "      <td>5000.50000</td>\n",
       "      <td>1.569074e+07</td>\n",
       "      <td>652.000000</td>\n",
       "      <td>37.000000</td>\n",
       "      <td>5.00000</td>\n",
       "      <td>97198.540000</td>\n",
       "      <td>1.000000</td>\n",
       "      <td>1.00000</td>\n",
       "      <td>1.000000</td>\n",
       "      <td>100193.915000</td>\n",
       "      <td>0.000000</td>\n",
       "    </tr>\n",
       "    <tr>\n",
       "      <th>75%</th>\n",
       "      <td>7500.25000</td>\n",
       "      <td>1.575323e+07</td>\n",
       "      <td>718.000000</td>\n",
       "      <td>44.000000</td>\n",
       "      <td>7.00000</td>\n",
       "      <td>127644.240000</td>\n",
       "      <td>2.000000</td>\n",
       "      <td>1.00000</td>\n",
       "      <td>1.000000</td>\n",
       "      <td>149388.247500</td>\n",
       "      <td>0.000000</td>\n",
       "    </tr>\n",
       "    <tr>\n",
       "      <th>max</th>\n",
       "      <td>10000.00000</td>\n",
       "      <td>1.581569e+07</td>\n",
       "      <td>850.000000</td>\n",
       "      <td>92.000000</td>\n",
       "      <td>10.00000</td>\n",
       "      <td>250898.090000</td>\n",
       "      <td>4.000000</td>\n",
       "      <td>1.00000</td>\n",
       "      <td>1.000000</td>\n",
       "      <td>199992.480000</td>\n",
       "      <td>1.000000</td>\n",
       "    </tr>\n",
       "  </tbody>\n",
       "</table>\n",
       "</div>"
      ],
      "text/plain": [
       "         RowNumber    CustomerId   CreditScore           Age       Tenure  \\\n",
       "count  10000.00000  1.000000e+04  10000.000000  10000.000000  10000.00000   \n",
       "mean    5000.50000  1.569094e+07    650.528800     38.921800      4.99790   \n",
       "std     2886.89568  7.193619e+04     96.653299     10.487806      2.76001   \n",
       "min        1.00000  1.556570e+07    350.000000     18.000000      0.00000   \n",
       "25%     2500.75000  1.562853e+07    584.000000     32.000000      3.00000   \n",
       "50%     5000.50000  1.569074e+07    652.000000     37.000000      5.00000   \n",
       "75%     7500.25000  1.575323e+07    718.000000     44.000000      7.00000   \n",
       "max    10000.00000  1.581569e+07    850.000000     92.000000     10.00000   \n",
       "\n",
       "             Balance  NumOfProducts    HasCrCard  IsActiveMember  \\\n",
       "count   10000.000000   10000.000000  10000.00000    10000.000000   \n",
       "mean    76485.889288       1.530200      0.70550        0.515100   \n",
       "std     62397.405202       0.581654      0.45584        0.499797   \n",
       "min         0.000000       1.000000      0.00000        0.000000   \n",
       "25%         0.000000       1.000000      0.00000        0.000000   \n",
       "50%     97198.540000       1.000000      1.00000        1.000000   \n",
       "75%    127644.240000       2.000000      1.00000        1.000000   \n",
       "max    250898.090000       4.000000      1.00000        1.000000   \n",
       "\n",
       "       EstimatedSalary        Exited  \n",
       "count     10000.000000  10000.000000  \n",
       "mean     100090.239881      0.203700  \n",
       "std       57510.492818      0.402769  \n",
       "min          11.580000      0.000000  \n",
       "25%       51002.110000      0.000000  \n",
       "50%      100193.915000      0.000000  \n",
       "75%      149388.247500      0.000000  \n",
       "max      199992.480000      1.000000  "
      ]
     },
     "execution_count": 5,
     "metadata": {},
     "output_type": "execute_result"
    }
   ],
   "source": [
    "#выведем информацию по разбросу данных\n",
    "data_raw.describe()"
   ]
  },
  {
   "cell_type": "code",
   "execution_count": 6,
   "metadata": {
    "scrolled": false
   },
   "outputs": [
    {
     "data": {
      "text/html": [
       "<div>\n",
       "<style scoped>\n",
       "    .dataframe tbody tr th:only-of-type {\n",
       "        vertical-align: middle;\n",
       "    }\n",
       "\n",
       "    .dataframe tbody tr th {\n",
       "        vertical-align: top;\n",
       "    }\n",
       "\n",
       "    .dataframe thead th {\n",
       "        text-align: right;\n",
       "    }\n",
       "</style>\n",
       "<table border=\"1\" class=\"dataframe\">\n",
       "  <thead>\n",
       "    <tr style=\"text-align: right;\">\n",
       "      <th></th>\n",
       "      <th>CreditScore</th>\n",
       "      <th>Geography</th>\n",
       "      <th>Gender</th>\n",
       "      <th>Age</th>\n",
       "      <th>Tenure</th>\n",
       "      <th>Balance</th>\n",
       "      <th>NumOfProducts</th>\n",
       "      <th>HasCrCard</th>\n",
       "      <th>IsActiveMember</th>\n",
       "      <th>EstimatedSalary</th>\n",
       "      <th>Exited</th>\n",
       "    </tr>\n",
       "  </thead>\n",
       "  <tbody>\n",
       "    <tr>\n",
       "      <th>0</th>\n",
       "      <td>619</td>\n",
       "      <td>France</td>\n",
       "      <td>Female</td>\n",
       "      <td>42</td>\n",
       "      <td>2.0</td>\n",
       "      <td>0.00</td>\n",
       "      <td>1</td>\n",
       "      <td>1</td>\n",
       "      <td>1</td>\n",
       "      <td>101348.88</td>\n",
       "      <td>1</td>\n",
       "    </tr>\n",
       "    <tr>\n",
       "      <th>1</th>\n",
       "      <td>608</td>\n",
       "      <td>Spain</td>\n",
       "      <td>Female</td>\n",
       "      <td>41</td>\n",
       "      <td>1.0</td>\n",
       "      <td>83807.86</td>\n",
       "      <td>1</td>\n",
       "      <td>0</td>\n",
       "      <td>1</td>\n",
       "      <td>112542.58</td>\n",
       "      <td>0</td>\n",
       "    </tr>\n",
       "    <tr>\n",
       "      <th>2</th>\n",
       "      <td>502</td>\n",
       "      <td>France</td>\n",
       "      <td>Female</td>\n",
       "      <td>42</td>\n",
       "      <td>8.0</td>\n",
       "      <td>159660.80</td>\n",
       "      <td>3</td>\n",
       "      <td>1</td>\n",
       "      <td>0</td>\n",
       "      <td>113931.57</td>\n",
       "      <td>1</td>\n",
       "    </tr>\n",
       "    <tr>\n",
       "      <th>3</th>\n",
       "      <td>699</td>\n",
       "      <td>France</td>\n",
       "      <td>Female</td>\n",
       "      <td>39</td>\n",
       "      <td>1.0</td>\n",
       "      <td>0.00</td>\n",
       "      <td>2</td>\n",
       "      <td>0</td>\n",
       "      <td>0</td>\n",
       "      <td>93826.63</td>\n",
       "      <td>0</td>\n",
       "    </tr>\n",
       "    <tr>\n",
       "      <th>4</th>\n",
       "      <td>850</td>\n",
       "      <td>Spain</td>\n",
       "      <td>Female</td>\n",
       "      <td>43</td>\n",
       "      <td>2.0</td>\n",
       "      <td>125510.82</td>\n",
       "      <td>1</td>\n",
       "      <td>1</td>\n",
       "      <td>1</td>\n",
       "      <td>79084.10</td>\n",
       "      <td>0</td>\n",
       "    </tr>\n",
       "    <tr>\n",
       "      <th>5</th>\n",
       "      <td>645</td>\n",
       "      <td>Spain</td>\n",
       "      <td>Male</td>\n",
       "      <td>44</td>\n",
       "      <td>8.0</td>\n",
       "      <td>113755.78</td>\n",
       "      <td>2</td>\n",
       "      <td>1</td>\n",
       "      <td>0</td>\n",
       "      <td>149756.71</td>\n",
       "      <td>1</td>\n",
       "    </tr>\n",
       "    <tr>\n",
       "      <th>6</th>\n",
       "      <td>822</td>\n",
       "      <td>France</td>\n",
       "      <td>Male</td>\n",
       "      <td>50</td>\n",
       "      <td>7.0</td>\n",
       "      <td>0.00</td>\n",
       "      <td>2</td>\n",
       "      <td>1</td>\n",
       "      <td>1</td>\n",
       "      <td>10062.80</td>\n",
       "      <td>0</td>\n",
       "    </tr>\n",
       "    <tr>\n",
       "      <th>7</th>\n",
       "      <td>376</td>\n",
       "      <td>Germany</td>\n",
       "      <td>Female</td>\n",
       "      <td>29</td>\n",
       "      <td>4.0</td>\n",
       "      <td>115046.74</td>\n",
       "      <td>4</td>\n",
       "      <td>1</td>\n",
       "      <td>0</td>\n",
       "      <td>119346.88</td>\n",
       "      <td>1</td>\n",
       "    </tr>\n",
       "    <tr>\n",
       "      <th>8</th>\n",
       "      <td>501</td>\n",
       "      <td>France</td>\n",
       "      <td>Male</td>\n",
       "      <td>44</td>\n",
       "      <td>4.0</td>\n",
       "      <td>142051.07</td>\n",
       "      <td>2</td>\n",
       "      <td>0</td>\n",
       "      <td>1</td>\n",
       "      <td>74940.50</td>\n",
       "      <td>0</td>\n",
       "    </tr>\n",
       "    <tr>\n",
       "      <th>9</th>\n",
       "      <td>684</td>\n",
       "      <td>France</td>\n",
       "      <td>Male</td>\n",
       "      <td>27</td>\n",
       "      <td>2.0</td>\n",
       "      <td>134603.88</td>\n",
       "      <td>1</td>\n",
       "      <td>1</td>\n",
       "      <td>1</td>\n",
       "      <td>71725.73</td>\n",
       "      <td>0</td>\n",
       "    </tr>\n",
       "  </tbody>\n",
       "</table>\n",
       "</div>"
      ],
      "text/plain": [
       "   CreditScore Geography  Gender  Age  Tenure    Balance  NumOfProducts  \\\n",
       "0          619    France  Female   42     2.0       0.00              1   \n",
       "1          608     Spain  Female   41     1.0   83807.86              1   \n",
       "2          502    France  Female   42     8.0  159660.80              3   \n",
       "3          699    France  Female   39     1.0       0.00              2   \n",
       "4          850     Spain  Female   43     2.0  125510.82              1   \n",
       "5          645     Spain    Male   44     8.0  113755.78              2   \n",
       "6          822    France    Male   50     7.0       0.00              2   \n",
       "7          376   Germany  Female   29     4.0  115046.74              4   \n",
       "8          501    France    Male   44     4.0  142051.07              2   \n",
       "9          684    France    Male   27     2.0  134603.88              1   \n",
       "\n",
       "   HasCrCard  IsActiveMember  EstimatedSalary  Exited  \n",
       "0          1               1        101348.88       1  \n",
       "1          0               1        112542.58       0  \n",
       "2          1               0        113931.57       1  \n",
       "3          0               0         93826.63       0  \n",
       "4          1               1         79084.10       0  \n",
       "5          1               0        149756.71       1  \n",
       "6          1               1         10062.80       0  \n",
       "7          1               0        119346.88       1  \n",
       "8          0               1         74940.50       0  \n",
       "9          1               1         71725.73       0  "
      ]
     },
     "execution_count": 6,
     "metadata": {},
     "output_type": "execute_result"
    }
   ],
   "source": [
    "#удалим столбцы с ненужной для анализа информацией\n",
    "data = data_raw.drop(['RowNumber', 'Surname', 'CustomerId'], axis=1)\n",
    "data.head(10)"
   ]
  },
  {
   "cell_type": "code",
   "execution_count": 7,
   "metadata": {},
   "outputs": [],
   "source": [
    "#преобразуем категориальные столбцы \n",
    "data_ohe = pd.get_dummies(data, drop_first=True)"
   ]
  },
  {
   "cell_type": "code",
   "execution_count": 8,
   "metadata": {},
   "outputs": [],
   "source": [
    "#разделим датасет на признаки и целевой признак, а также подготовим тренировочную, валидационную и тестовую выборки\n",
    "features = data_ohe.drop('Exited', axis=1)\n",
    "target = data_ohe['Exited']\n",
    "\n",
    "features_train, features_valid_test, target_train, target_valid_test = train_test_split(\n",
    "    features, target, test_size=0.6, random_state=12345, stratify=target)\n",
    "features_test, features_valid, target_test, target_valid = train_test_split(\n",
    "    features_valid_test, target_valid_test, test_size=0.5, random_state=12345, stratify=target_valid_test)"
   ]
  },
  {
   "cell_type": "code",
   "execution_count": 9,
   "metadata": {},
   "outputs": [],
   "source": [
    "#приведем численные столбцы к одному масштабу\n",
    "numeric = ['CreditScore', 'Age', 'Tenure', 'Balance', 'NumOfProducts', 'EstimatedSalary']\n",
    "pd.options.mode.chained_assignment = None\n",
    "scaler = StandardScaler()\n",
    "scaler.fit(features_train[numeric])\n",
    "features_train[numeric] = scaler.transform(features_train[numeric])\n",
    "features_valid[numeric] = scaler.transform(features_valid[numeric])\n",
    "features_test[numeric] = scaler.transform(features_test[numeric])\n"
   ]
  },
  {
   "cell_type": "markdown",
   "metadata": {},
   "source": [
    "Проанализировав данные, были обнаружены пропуски в столбце Tenure, они были заменены на медианные значения. Также присутствовали столбцы 'RowNumber', 'Surname', 'CustomerId', которые не имеют ценности в построении модели, они были удалены. Категориальные признаки были преобразованы техникой OHE для эффективного обучения моделей. Все количественные признаки были приведены к одному масштабу. Данные были распределены на тренировочную, валидационную и тестовую выборки в соотношении 3:1:1 соответственно."
   ]
  },
  {
   "cell_type": "markdown",
   "metadata": {},
   "source": [
    "## Исследование задачи"
   ]
  },
  {
   "cell_type": "code",
   "execution_count": 10,
   "metadata": {},
   "outputs": [
    {
     "data": {
      "text/plain": [
       "Exited\n",
       "0    7963\n",
       "1    2037\n",
       "dtype: int64"
      ]
     },
     "execution_count": 10,
     "metadata": {},
     "output_type": "execute_result"
    }
   ],
   "source": [
    "#проверим целевой признак на наличие дисбаланса\n",
    "data_ohe.value_counts('Exited')"
   ]
  },
  {
   "cell_type": "code",
   "execution_count": 11,
   "metadata": {},
   "outputs": [
    {
     "name": "stdout",
     "output_type": "stream",
     "text": [
      "F1: 0.3273164861612515\n"
     ]
    }
   ],
   "source": [
    "#обучим модель логистической регрессии без учета дисбаланса\n",
    "model_lr = LogisticRegression(random_state=12345, solver='lbfgs') \n",
    "model_lr.fit(features_train, target_train)\n",
    "\n",
    "predicted_valid = model_lr.predict(features_valid)\n",
    "\n",
    "print(\"F1:\", f1_score(target_valid, predicted_valid))"
   ]
  },
  {
   "cell_type": "code",
   "execution_count": 12,
   "metadata": {},
   "outputs": [
    {
     "data": {
      "image/png": "[encoded data removed]",
      "text/plain": [
       "<Figure size 432x288 with 1 Axes>"
      ]
     },
     "metadata": {
      "needs_background": "light"
     },
     "output_type": "display_data"
    },
    {
     "name": "stdout",
     "output_type": "stream",
     "text": [
      "AUC-ROC: 0.7793549129637407\n"
     ]
    }
   ],
   "source": [
    "#построим ROC кривую и посчитаем значение AUC-ROC\n",
    "probabilities_valid = model_lr.predict_proba(features_valid)\n",
    "probabilities_one_valid = probabilities_valid[:, 1]\n",
    "fpr, tpr, thresholds = roc_curve(target_valid, probabilities_one_valid)\n",
    "plt.figure()\n",
    "plt.plot(fpr, tpr)\n",
    "plt.xlim([0.0, 1.0])\n",
    "plt.ylim([0.0, 1.0])\n",
    "plt.xlabel('False Positive Rate')\n",
    "plt.ylabel('True Positive Rate')\n",
    "plt.title('ROC-кривая')\n",
    "plt.show() \n",
    "print(\"AUC-ROC:\", roc_auc_score(target_valid, probabilities_one_valid))"
   ]
  },
  {
   "cell_type": "markdown",
   "metadata": {},
   "source": [
    "Анализ показал наличие дисбаланса со смещением в сторону нулевых значений целевого признака (доля положительных 0,2). Обучив модель логистической регрессии без учета дисбаланса, мы достигли низкого значения F1 0,33. Значение AUC-ROC составило 0,78. "
   ]
  },
  {
   "cell_type": "markdown",
   "metadata": {},
   "source": [
    "## Борьба с дисбалансом"
   ]
  },
  {
   "cell_type": "code",
   "execution_count": 13,
   "metadata": {},
   "outputs": [
    {
     "data": {
      "text/plain": [
       "1    0.505818\n",
       "0    0.494182\n",
       "Name: Exited, dtype: float64"
      ]
     },
     "execution_count": 13,
     "metadata": {},
     "output_type": "execute_result"
    }
   ],
   "source": [
    "#избавимся от дисбаланса с помощью увеличения выборки с положительным целевым признаком\n",
    "def upsample(features, target, repeat):\n",
    "    features_zeros = features[target == 0]\n",
    "    features_ones = features[target == 1]\n",
    "    target_zeros = target[target == 0]\n",
    "    target_ones = target[target == 1]\n",
    "\n",
    "    features_upsampled = pd.concat([features_zeros] + [features_ones] * repeat)\n",
    "    target_upsampled = pd.concat([target_zeros] + [target_ones] * repeat)\n",
    "    \n",
    "    features_upsampled, target_upsampled = shuffle(\n",
    "        features_upsampled, target_upsampled, random_state=12345)\n",
    "    \n",
    "    return features_upsampled, target_upsampled\n",
    "features_upsampled, target_upsampled = upsample(features_train, target_train, 4)\n",
    "target_upsampled.value_counts('Exited')"
   ]
  },
  {
   "cell_type": "code",
   "execution_count": 14,
   "metadata": {},
   "outputs": [
    {
     "name": "stdout",
     "output_type": "stream",
     "text": [
      "F1: 0.5090497737556562\n"
     ]
    }
   ],
   "source": [
    "#обучим модель логистической регрессии с учетом дисбаланса\n",
    "model_lr = LogisticRegression(random_state=12345, solver='liblinear')\n",
    "model_lr.fit(features_upsampled, target_upsampled)\n",
    "predicted_valid_lr = model_lr.predict(features_valid)\n",
    "print(\"F1:\", f1_score(target_valid, predicted_valid_lr))"
   ]
  },
  {
   "cell_type": "code",
   "execution_count": 15,
   "metadata": {
    "scrolled": true
   },
   "outputs": [
    {
     "data": {
      "image/png": "[encoded data removed]",
      "text/plain": [
       "<Figure size 432x288 with 1 Axes>"
      ]
     },
     "metadata": {
      "needs_background": "light"
     },
     "output_type": "display_data"
    },
    {
     "name": "stdout",
     "output_type": "stream",
     "text": [
      "AUC-ROC: 0.781617054160538\n"
     ]
    }
   ],
   "source": [
    "#построим ROC кривую и посчитаем значение AUC-ROC\n",
    "probabilities_valid_lr = model_lr.predict_proba(features_valid)\n",
    "probabilities_one_valid_lr = probabilities_valid_lr[:, 1]\n",
    "fpr, tpr, thresholds = roc_curve(target_valid, probabilities_one_valid_lr)\n",
    "plt.figure()\n",
    "plt.plot(fpr, tpr)\n",
    "plt.xlim([0.0, 1.0])\n",
    "plt.ylim([0.0, 1.0])\n",
    "plt.xlabel('False Positive Rate')\n",
    "plt.ylabel('True Positive Rate')\n",
    "plt.title('ROC-кривая')\n",
    "plt.show() \n",
    "print(\"AUC-ROC:\", roc_auc_score(target_valid, probabilities_one_valid_lr))"
   ]
  },
  {
   "cell_type": "code",
   "execution_count": 16,
   "metadata": {},
   "outputs": [
    {
     "name": "stdout",
     "output_type": "stream",
     "text": [
      "Наилучшая модель: RandomForestClassifier(max_depth=8, n_estimators=57, random_state=12345)\n",
      "F1 наилучшей модели на валидационной выборке: 0.6208304969366917\n",
      "CPU times: user 1min 10s, sys: 236 ms, total: 1min 10s\n",
      "Wall time: 1min 10s\n"
     ]
    }
   ],
   "source": [
    "%%time\n",
    "best_model_rf = None\n",
    "best_result_rf = 0\n",
    "for est in range(1, 60):\n",
    "    for depth in range(1, 10):\n",
    "        model_rf = RandomForestClassifier(random_state=12345, n_estimators=est, max_depth=depth) \n",
    "        model_rf.fit(features_upsampled, target_upsampled) \n",
    "        predicted_valid_rf = model_rf.predict(features_valid)\n",
    "        f1_rf = f1_score(target_valid, predicted_valid_rf)\n",
    "        if f1_rf > best_result_rf:\n",
    "            best_model_rf = model_rf\n",
    "            best_result_rf = f1_rf\n",
    "print(\"Наилучшая модель:\", best_model_rf)\n",
    "print(\"F1 наилучшей модели на валидационной выборке:\", best_result_rf)   "
   ]
  },
  {
   "cell_type": "code",
   "execution_count": 17,
   "metadata": {
    "scrolled": true
   },
   "outputs": [
    {
     "data": {
      "image/png": "[encoded data removed]",
      "text/plain": [
       "<Figure size 432x288 with 1 Axes>"
      ]
     },
     "metadata": {
      "needs_background": "light"
     },
     "output_type": "display_data"
    },
    {
     "name": "stdout",
     "output_type": "stream",
     "text": [
      "AUC-ROC: 0.8569137461044517\n"
     ]
    }
   ],
   "source": [
    "#построим ROC кривую и посчитаем значение AUC-ROC\n",
    "probabilities_valid_rf = best_model_rf.predict_proba(features_valid)\n",
    "probabilities_one_valid_rf = probabilities_valid_rf[:, 1]\n",
    "fpr, tpr, thresholds = roc_curve(target_valid, probabilities_one_valid_rf)\n",
    "plt.figure()\n",
    "plt.plot(fpr, tpr)\n",
    "plt.xlim([0.0, 1.0])\n",
    "plt.ylim([0.0, 1.0])\n",
    "plt.xlabel('False Positive Rate')\n",
    "plt.ylabel('True Positive Rate')\n",
    "plt.title('ROC-кривая')\n",
    "plt.show() \n",
    "print(\"AUC-ROC:\", roc_auc_score(target_valid, probabilities_one_valid_rf))"
   ]
  },
  {
   "cell_type": "code",
   "execution_count": 18,
   "metadata": {
    "scrolled": true
   },
   "outputs": [
    {
     "name": "stdout",
     "output_type": "stream",
     "text": [
      "Наилучшая модель: DecisionTreeClassifier(max_depth=7, random_state=12345)\n",
      "F1 наилучшей модели на валидационной выборке: 0.547019053472649\n",
      "CPU times: user 294 ms, sys: 3.9 ms, total: 297 ms\n",
      "Wall time: 309 ms\n"
     ]
    },
    {
     "data": {
      "image/png": "[encoded data removed]",
      "text/plain": [
       "<Figure size 432x288 with 1 Axes>"
      ]
     },
     "metadata": {
      "needs_background": "light"
     },
     "output_type": "display_data"
    }
   ],
   "source": [
    "%%time\n",
    "depths = []\n",
    "scores = []\n",
    "best_model_dt = None\n",
    "best_result_dt = 0\n",
    "for depth in range(1, 15):\n",
    "    model_dt = DecisionTreeClassifier(max_depth=depth, random_state=12345)\n",
    "    model_dt.fit(features_upsampled, target_upsampled)\n",
    "    predicted_valid_dt = model_dt.predict(features_valid)\n",
    "    f1_dt = f1_score(target_valid, predicted_valid_dt)\n",
    "    depths.append(depth)\n",
    "    scores.append(f1_dt)\n",
    "    if f1_dt > best_result_dt:\n",
    "        best_model_dt = model_dt\n",
    "        best_result_dt = f1_dt\n",
    "plt.plot(depths, scores)\n",
    "plt.xlabel('max_depth')\n",
    "plt.ylabel('f1')\n",
    "print(\"Наилучшая модель:\", best_model_dt)\n",
    "print(\"F1 наилучшей модели на валидационной выборке:\", best_result_dt)"
   ]
  },
  {
   "cell_type": "code",
   "execution_count": 19,
   "metadata": {},
   "outputs": [
    {
     "data": {
      "image/png": "[encoded data removed]",
      "text/plain": [
       "<Figure size 432x288 with 1 Axes>"
      ]
     },
     "metadata": {
      "needs_background": "light"
     },
     "output_type": "display_data"
    },
    {
     "name": "stdout",
     "output_type": "stream",
     "text": [
      "AUC-ROC: 0.8054257134616584\n"
     ]
    }
   ],
   "source": [
    "#построим ROC кривую и посчитаем значение AUC-ROC\n",
    "probabilities_valid_dt = best_model_dt.predict_proba(features_valid)\n",
    "probabilities_one_valid_dt = probabilities_valid_dt[:, 1]\n",
    "fpr, tpr, thresholds = roc_curve(target_valid, probabilities_one_valid_dt)\n",
    "plt.figure()\n",
    "plt.plot(fpr, tpr)\n",
    "plt.xlim([0.0, 1.0])\n",
    "plt.ylim([0.0, 1.0])\n",
    "plt.xlabel('False Positive Rate')\n",
    "plt.ylabel('True Positive Rate')\n",
    "plt.title('ROC-кривая')\n",
    "plt.show() \n",
    "print(\"AUC-ROC:\", roc_auc_score(target_valid, probabilities_one_valid_dt))"
   ]
  },
  {
   "cell_type": "markdown",
   "metadata": {},
   "source": [
    "Мы устранили дисбаланс с помощью мультипликации строк с положительным целевым признаком. Переобучив модель логистической регрессии с учетом дисбаланса, мы достигли почти в 2 раза более выского значения F1 0,51, при этом значение AUC-ROC осталось без изменений. Также мы обучили модели RF и DT, подобрав с помощью цикла оптимальные гиперпараметры. Наилучший результат показала модель RF с n_estimators=57, max_depth=8. Мы достигли значения F1 0.62, AUC-ROC 0,86. Хуже всех показала себя модель логистической регрессии. "
   ]
  },
  {
   "cell_type": "markdown",
   "metadata": {},
   "source": [
    "## Тестирование модели"
   ]
  },
  {
   "cell_type": "code",
   "execution_count": 20,
   "metadata": {},
   "outputs": [
    {
     "name": "stdout",
     "output_type": "stream",
     "text": [
      "F1 наилучшей модели на тестовой выборке: 0.6085164835164836\n"
     ]
    }
   ],
   "source": [
    "#произведем тестирование модели на тестовой выборке\n",
    "predicted_test_rf = best_model_rf.predict(features_test)\n",
    "print(\"F1 наилучшей модели на тестовой выборке:\", f1_score(target_test, predicted_test_rf))"
   ]
  },
  {
   "cell_type": "code",
   "execution_count": 21,
   "metadata": {
    "scrolled": true
   },
   "outputs": [
    {
     "data": {
      "image/png": "[encoded data removed]",
      "text/plain": [
       "<Figure size 432x288 with 1 Axes>"
      ]
     },
     "metadata": {
      "needs_background": "light"
     },
     "output_type": "display_data"
    },
    {
     "name": "stdout",
     "output_type": "stream",
     "text": [
      "AUC-ROC: 0.8476528058566302\n"
     ]
    }
   ],
   "source": [
    "#построим ROC кривую и посчитаем значение AUC-ROC\n",
    "probabilities_test_rf = best_model_rf.predict_proba(features_test)\n",
    "probabilities_one_test_rf = probabilities_test_rf[:, 1]\n",
    "fpr, tpr, thresholds = roc_curve(target_test, probabilities_one_test_rf)\n",
    "plt.figure()\n",
    "plt.plot(fpr, tpr)\n",
    "plt.xlim([0.0, 1.0])\n",
    "plt.ylim([0.0, 1.0])\n",
    "plt.xlabel('False Positive Rate')\n",
    "plt.ylabel('True Positive Rate')\n",
    "plt.title('ROC-кривая')\n",
    "plt.show() \n",
    "print(\"AUC-ROC:\", roc_auc_score(target_test, probabilities_one_test_rf))"
   ]
  },
  {
   "cell_type": "code",
   "execution_count": 22,
   "metadata": {},
   "outputs": [
    {
     "data": {
      "image/png": "[encoded data removed]",
      "text/plain": [
       "<Figure size 432x288 with 1 Axes>"
      ]
     },
     "metadata": {
      "needs_background": "light"
     },
     "output_type": "display_data"
    },
    {
     "name": "stdout",
     "output_type": "stream",
     "text": [
      "AUC-ROC: 0.5\n"
     ]
    }
   ],
   "source": [
    "#обучим случайную модель и построим ROC кривую и посчитаем значение AUC-ROC\n",
    "dummy_clf = DummyClassifier(strategy=\"most_frequent\")\n",
    "dummy_clf.fit(features_train, target_train)\n",
    "predicted_test_dummy = dummy_clf.predict(features_test)\n",
    "probabilities_test_dummy = dummy_clf.predict_proba(features_test)\n",
    "probabilities_one_test_dummy = probabilities_test_dummy[:, 1]\n",
    "fpr, tpr, thresholds = roc_curve(target_test, probabilities_one_test_dummy)\n",
    "plt.figure()\n",
    "plt.plot(fpr, tpr)\n",
    "plt.xlim([0.0, 1.0])\n",
    "plt.ylim([0.0, 1.0])\n",
    "plt.xlabel('False Positive Rate')\n",
    "plt.ylabel('True Positive Rate')\n",
    "plt.title('ROC-кривая')\n",
    "plt.show() \n",
    "print(\"AUC-ROC:\", roc_auc_score(target_test, probabilities_one_test_dummy))   "
   ]
  },
  {
   "cell_type": "markdown",
   "metadata": {},
   "source": [
    "Наилучшая модель была протестирована на тестовой выборке, мы достигли значения F1 0.61, AUC-ROC 0,85. Также была построена случайная модель со значением AUC-ROC 0,5. Все построеные модели прошли проверку на адекватность, значения AUC-ROC выше 0,5."
   ]
  },
  {
   "cell_type": "markdown",
   "metadata": {},
   "source": [
    "## Чек-лист готовности проекта"
   ]
  },
  {
   "cell_type": "markdown",
   "metadata": {},
   "source": [
    "Поставьте 'x' в выполненных пунктах. Далее нажмите Shift+Enter."
   ]
  },
  {
   "cell_type": "markdown",
   "metadata": {},
   "source": [
    "- [x]  Jupyter Notebook открыт\n",
    "- [x]  Весь код выполняется без ошибок\n",
    "- [x]  Ячейки с кодом расположены в порядке исполнения\n",
    "- [x]  Выполнен шаг 1: данные подготовлены\n",
    "- [x]  Выполнен шаг 2: задача исследована\n",
    "    - [x]  Исследован баланс классов\n",
    "    - [x]  Изучены модели без учёта дисбаланса\n",
    "    - [x]  Написаны выводы по результатам исследования\n",
    "- [x]  Выполнен шаг 3: учтён дисбаланс\n",
    "    - [x]  Применено несколько способов борьбы с дисбалансом\n",
    "    - [x]  Написаны выводы по результатам исследования\n",
    "- [x]  Выполнен шаг 4: проведено тестирование\n",
    "- [x]  Удалось достичь *F1*-меры не менее 0.59\n",
    "- [x]  Исследована метрика *AUC-ROC*"
   ]
  },
  {
   "cell_type": "markdown",
   "metadata": {},
   "source": [
    "Перед нами была поставлена задача спрогнозировать, уйдёт клиент из банка в ближайшее время или нет на основе предоставленных данных. Проанализировав данные, были обнаружены пропуски в столбце Tenure, они были заменены на медианные значения. Также присутствовали столбцы 'RowNumber', 'Surname', 'CustomerId', которые не имеют ценности в построении модели, они были удалены. Категориальные признаки были преобразованы техникой OHE для эффективного обучения моделей. Все количественные признаки были приведены к одному масштабу. Все количественные признаки были приведены к одному масштабу. Данные были распределены на тренировочную, валидационную и тестовую выборки в соотношении 3:1:1 соответственно. Анализ показал наличие дисбаланса со смещением в сторону нулевых значений целевого признака (доля положительных 0,2). Обучив модель логистической регрессии без учета дисбаланса, мы достигли низкого значения F1 0,33. Значение AUC-ROC составило 0,78. Мы устранили дисбаланс с помощью мультипликации строк с положительным целевым признаком. Переобучив модель логистической регрессии с учетом дисбаланса, мы достигли почти в 2 раза более выского значения F1 0,51, при этом значение AUC-ROC осталось без изменений. Также мы обучили модели RF и DT, подобрав с помощью цикла оптимальные гиперпараметры. Наилучший результат показала модель RF с n_estimators=57, max_depth=8. Мы достигли значения F1 0.62, AUC-ROC 0,86. Хуже всех показала себя модель логистической регрессии.Наилучшая модель была протестирована на тестовой выборке, мы достигли значения F1 0.61, AUC-ROC 0,85. Также была построена случайная модель со значением AUC-ROC 0,5. Все построеные модели прошли проверку на адекватность, значения AUC-ROC выше 0,5. Целевое значение F1 выше 0.59 достигнуто."
   ]
  }
 ],
 "metadata": {
  "ExecuteTimeLog": [
   {
    "duration": 388,
    "start_time": "2023-04-17T15:26:07.541Z"
   },
   {
    "duration": 131,
    "start_time": "2023-04-17T15:26:07.931Z"
   },
   {
    "duration": 16,
    "start_time": "2023-04-17T15:26:08.064Z"
   },
   {
    "duration": 5,
    "start_time": "2023-04-17T15:46:43.430Z"
   },
   {
    "duration": 76,
    "start_time": "2023-04-17T15:46:57.798Z"
   },
   {
    "duration": 478,
    "start_time": "2023-04-17T15:47:15.720Z"
   },
   {
    "duration": 64,
    "start_time": "2023-04-17T15:47:16.201Z"
   },
   {
    "duration": 12,
    "start_time": "2023-04-17T15:47:16.267Z"
   },
   {
    "duration": 14,
    "start_time": "2023-04-17T15:47:16.280Z"
   },
   {
    "duration": 425,
    "start_time": "2023-04-17T15:49:44.929Z"
   },
   {
    "duration": 59,
    "start_time": "2023-04-17T15:49:45.356Z"
   },
   {
    "duration": 12,
    "start_time": "2023-04-17T15:49:45.417Z"
   },
   {
    "duration": 43,
    "start_time": "2023-04-17T15:49:45.431Z"
   },
   {
    "duration": 11,
    "start_time": "2023-04-17T15:54:58.695Z"
   },
   {
    "duration": 70,
    "start_time": "2023-04-17T16:05:42.570Z"
   },
   {
    "duration": 1152,
    "start_time": "2023-04-17T16:06:01.719Z"
   },
   {
    "duration": 68,
    "start_time": "2023-04-17T16:06:02.873Z"
   },
   {
    "duration": 22,
    "start_time": "2023-04-17T16:06:02.943Z"
   },
   {
    "duration": 21,
    "start_time": "2023-04-17T16:06:02.967Z"
   },
   {
    "duration": 13,
    "start_time": "2023-04-17T16:06:02.990Z"
   },
   {
    "duration": 44,
    "start_time": "2023-04-17T16:06:03.005Z"
   },
   {
    "duration": 19,
    "start_time": "2023-04-17T16:12:28.605Z"
   },
   {
    "duration": 1097,
    "start_time": "2023-04-17T16:13:22.747Z"
   },
   {
    "duration": 61,
    "start_time": "2023-04-17T16:13:23.846Z"
   },
   {
    "duration": 13,
    "start_time": "2023-04-17T16:13:23.910Z"
   },
   {
    "duration": 22,
    "start_time": "2023-04-17T16:13:23.925Z"
   },
   {
    "duration": 15,
    "start_time": "2023-04-17T16:13:23.948Z"
   },
   {
    "duration": 22,
    "start_time": "2023-04-17T16:13:23.964Z"
   },
   {
    "duration": 1059,
    "start_time": "2023-04-18T16:22:53.816Z"
   },
   {
    "duration": 186,
    "start_time": "2023-04-18T16:22:54.877Z"
   },
   {
    "duration": 15,
    "start_time": "2023-04-18T16:22:55.065Z"
   },
   {
    "duration": 66,
    "start_time": "2023-04-18T16:22:55.082Z"
   },
   {
    "duration": 25,
    "start_time": "2023-04-18T16:22:55.152Z"
   },
   {
    "duration": 16,
    "start_time": "2023-04-18T16:22:55.180Z"
   },
   {
    "duration": 23,
    "start_time": "2023-04-18T16:22:55.197Z"
   },
   {
    "duration": 14,
    "start_time": "2023-04-18T16:22:55.222Z"
   },
   {
    "duration": 6,
    "start_time": "2023-04-18T16:22:55.238Z"
   },
   {
    "duration": 1115,
    "start_time": "2023-04-18T16:26:26.423Z"
   },
   {
    "duration": 60,
    "start_time": "2023-04-18T16:26:27.540Z"
   },
   {
    "duration": 15,
    "start_time": "2023-04-18T16:26:27.601Z"
   },
   {
    "duration": 55,
    "start_time": "2023-04-18T16:26:27.618Z"
   },
   {
    "duration": 27,
    "start_time": "2023-04-18T16:26:27.676Z"
   },
   {
    "duration": 15,
    "start_time": "2023-04-18T16:26:27.705Z"
   },
   {
    "duration": 22,
    "start_time": "2023-04-18T16:26:27.722Z"
   },
   {
    "duration": 13,
    "start_time": "2023-04-18T16:26:27.746Z"
   },
   {
    "duration": 7,
    "start_time": "2023-04-18T16:26:27.787Z"
   },
   {
    "duration": 129,
    "start_time": "2023-04-18T16:26:27.796Z"
   },
   {
    "duration": 30,
    "start_time": "2023-04-18T16:27:58.422Z"
   },
   {
    "duration": 19,
    "start_time": "2023-04-18T16:28:11.014Z"
   },
   {
    "duration": 14,
    "start_time": "2023-04-18T16:29:03.018Z"
   },
   {
    "duration": 4,
    "start_time": "2023-04-18T16:32:21.318Z"
   },
   {
    "duration": 1056,
    "start_time": "2023-04-18T16:32:28.320Z"
   },
   {
    "duration": 59,
    "start_time": "2023-04-18T16:32:29.378Z"
   },
   {
    "duration": 13,
    "start_time": "2023-04-18T16:32:29.438Z"
   },
   {
    "duration": 6,
    "start_time": "2023-04-18T16:32:29.453Z"
   },
   {
    "duration": 42,
    "start_time": "2023-04-18T16:32:29.461Z"
   },
   {
    "duration": 14,
    "start_time": "2023-04-18T16:32:29.504Z"
   },
   {
    "duration": 11,
    "start_time": "2023-04-18T16:32:29.520Z"
   },
   {
    "duration": 22,
    "start_time": "2023-04-18T16:32:29.532Z"
   },
   {
    "duration": 30,
    "start_time": "2023-04-18T16:32:29.555Z"
   },
   {
    "duration": 6,
    "start_time": "2023-04-18T16:32:29.587Z"
   },
   {
    "duration": 195,
    "start_time": "2023-04-18T16:32:29.597Z"
   },
   {
    "duration": 241,
    "start_time": "2023-04-18T16:32:40.555Z"
   },
   {
    "duration": 372,
    "start_time": "2023-04-18T16:42:30.125Z"
   },
   {
    "duration": 1087,
    "start_time": "2023-04-18T16:42:44.901Z"
   },
   {
    "duration": 58,
    "start_time": "2023-04-18T16:42:45.990Z"
   },
   {
    "duration": 13,
    "start_time": "2023-04-18T16:42:46.051Z"
   },
   {
    "duration": 5,
    "start_time": "2023-04-18T16:42:46.065Z"
   },
   {
    "duration": 42,
    "start_time": "2023-04-18T16:42:46.071Z"
   },
   {
    "duration": 15,
    "start_time": "2023-04-18T16:42:46.115Z"
   },
   {
    "duration": 17,
    "start_time": "2023-04-18T16:42:46.131Z"
   },
   {
    "duration": 19,
    "start_time": "2023-04-18T16:42:46.150Z"
   },
   {
    "duration": 12,
    "start_time": "2023-04-18T16:42:46.186Z"
   },
   {
    "duration": 5,
    "start_time": "2023-04-18T16:42:46.200Z"
   },
   {
    "duration": 279,
    "start_time": "2023-04-18T16:42:46.207Z"
   },
   {
    "duration": 106,
    "start_time": "2023-04-18T16:49:57.602Z"
   },
   {
    "duration": 67,
    "start_time": "2023-04-18T16:50:20.018Z"
   },
   {
    "duration": 1123,
    "start_time": "2023-04-18T16:50:40.303Z"
   },
   {
    "duration": 59,
    "start_time": "2023-04-18T16:50:41.428Z"
   },
   {
    "duration": 15,
    "start_time": "2023-04-18T16:50:41.489Z"
   },
   {
    "duration": 5,
    "start_time": "2023-04-18T16:50:41.505Z"
   },
   {
    "duration": 48,
    "start_time": "2023-04-18T16:50:41.513Z"
   },
   {
    "duration": 35,
    "start_time": "2023-04-18T16:50:41.563Z"
   },
   {
    "duration": 23,
    "start_time": "2023-04-18T16:50:41.600Z"
   },
   {
    "duration": 32,
    "start_time": "2023-04-18T16:50:41.625Z"
   },
   {
    "duration": 30,
    "start_time": "2023-04-18T16:50:41.659Z"
   },
   {
    "duration": 7,
    "start_time": "2023-04-18T16:50:41.691Z"
   },
   {
    "duration": 286,
    "start_time": "2023-04-18T16:50:41.700Z"
   },
   {
    "duration": 360,
    "start_time": "2023-04-18T16:50:41.989Z"
   },
   {
    "duration": 1515,
    "start_time": "2023-04-18T16:51:25.546Z"
   },
   {
    "duration": 60,
    "start_time": "2023-04-18T16:51:27.063Z"
   },
   {
    "duration": 16,
    "start_time": "2023-04-18T16:51:27.125Z"
   },
   {
    "duration": 6,
    "start_time": "2023-04-18T16:51:27.142Z"
   },
   {
    "duration": 60,
    "start_time": "2023-04-18T16:51:27.150Z"
   },
   {
    "duration": 15,
    "start_time": "2023-04-18T16:51:27.212Z"
   },
   {
    "duration": 12,
    "start_time": "2023-04-18T16:51:27.229Z"
   },
   {
    "duration": 43,
    "start_time": "2023-04-18T16:51:27.243Z"
   },
   {
    "duration": 14,
    "start_time": "2023-04-18T16:51:27.287Z"
   },
   {
    "duration": 6,
    "start_time": "2023-04-18T16:51:27.302Z"
   },
   {
    "duration": 284,
    "start_time": "2023-04-18T16:51:27.310Z"
   },
   {
    "duration": 402,
    "start_time": "2023-04-18T16:51:27.596Z"
   },
   {
    "duration": 391,
    "start_time": "2023-04-18T16:52:02.306Z"
   },
   {
    "duration": 4,
    "start_time": "2023-04-18T16:52:18.709Z"
   },
   {
    "duration": 1421,
    "start_time": "2023-04-18T16:52:33.512Z"
   },
   {
    "duration": 55,
    "start_time": "2023-04-18T16:52:34.936Z"
   },
   {
    "duration": 13,
    "start_time": "2023-04-18T16:52:34.993Z"
   },
   {
    "duration": 5,
    "start_time": "2023-04-18T16:52:35.008Z"
   },
   {
    "duration": 41,
    "start_time": "2023-04-18T16:52:35.015Z"
   },
   {
    "duration": 41,
    "start_time": "2023-04-18T16:52:35.057Z"
   },
   {
    "duration": 12,
    "start_time": "2023-04-18T16:52:35.101Z"
   },
   {
    "duration": 32,
    "start_time": "2023-04-18T16:52:35.115Z"
   },
   {
    "duration": 36,
    "start_time": "2023-04-18T16:52:35.149Z"
   },
   {
    "duration": 7,
    "start_time": "2023-04-18T16:52:35.187Z"
   },
   {
    "duration": 395,
    "start_time": "2023-04-18T16:52:35.198Z"
   },
   {
    "duration": 398,
    "start_time": "2023-04-18T16:52:35.595Z"
   },
   {
    "duration": 609,
    "start_time": "2023-04-18T16:58:33.912Z"
   },
   {
    "duration": 1313,
    "start_time": "2023-04-18T16:59:25.033Z"
   },
   {
    "duration": 56,
    "start_time": "2023-04-18T16:59:26.347Z"
   },
   {
    "duration": 13,
    "start_time": "2023-04-18T16:59:26.404Z"
   },
   {
    "duration": 8,
    "start_time": "2023-04-18T16:59:26.419Z"
   },
   {
    "duration": 59,
    "start_time": "2023-04-18T16:59:26.430Z"
   },
   {
    "duration": 15,
    "start_time": "2023-04-18T16:59:26.491Z"
   },
   {
    "duration": 13,
    "start_time": "2023-04-18T16:59:26.507Z"
   },
   {
    "duration": 22,
    "start_time": "2023-04-18T16:59:26.521Z"
   },
   {
    "duration": 13,
    "start_time": "2023-04-18T16:59:26.544Z"
   },
   {
    "duration": 30,
    "start_time": "2023-04-18T16:59:26.559Z"
   },
   {
    "duration": 295,
    "start_time": "2023-04-18T16:59:26.591Z"
   },
   {
    "duration": 320,
    "start_time": "2023-04-18T16:59:26.889Z"
   },
   {
    "duration": 1396,
    "start_time": "2023-04-18T17:07:38.978Z"
   },
   {
    "duration": 58,
    "start_time": "2023-04-18T17:07:40.376Z"
   },
   {
    "duration": 19,
    "start_time": "2023-04-18T17:07:40.439Z"
   },
   {
    "duration": 6,
    "start_time": "2023-04-18T17:07:40.461Z"
   },
   {
    "duration": 65,
    "start_time": "2023-04-18T17:07:40.469Z"
   },
   {
    "duration": 15,
    "start_time": "2023-04-18T17:07:40.537Z"
   },
   {
    "duration": 15,
    "start_time": "2023-04-18T17:07:40.554Z"
   },
   {
    "duration": 32,
    "start_time": "2023-04-18T17:07:40.585Z"
   },
   {
    "duration": 18,
    "start_time": "2023-04-18T17:07:40.620Z"
   },
   {
    "duration": 6,
    "start_time": "2023-04-18T17:07:40.640Z"
   },
   {
    "duration": 849,
    "start_time": "2023-04-18T17:07:40.648Z"
   },
   {
    "duration": 427,
    "start_time": "2023-04-18T17:07:41.499Z"
   },
   {
    "duration": 1338,
    "start_time": "2023-04-18T17:08:46.678Z"
   },
   {
    "duration": 56,
    "start_time": "2023-04-18T17:08:48.018Z"
   },
   {
    "duration": 14,
    "start_time": "2023-04-18T17:08:48.075Z"
   },
   {
    "duration": 6,
    "start_time": "2023-04-18T17:08:48.091Z"
   },
   {
    "duration": 41,
    "start_time": "2023-04-18T17:08:48.099Z"
   },
   {
    "duration": 14,
    "start_time": "2023-04-18T17:08:48.141Z"
   },
   {
    "duration": 37,
    "start_time": "2023-04-18T17:08:48.156Z"
   },
   {
    "duration": 26,
    "start_time": "2023-04-18T17:08:48.195Z"
   },
   {
    "duration": 14,
    "start_time": "2023-04-18T17:08:48.224Z"
   },
   {
    "duration": 11,
    "start_time": "2023-04-18T17:08:48.240Z"
   },
   {
    "duration": 146,
    "start_time": "2023-04-18T17:08:48.253Z"
   },
   {
    "duration": 318,
    "start_time": "2023-04-18T17:08:48.485Z"
   },
   {
    "duration": 130,
    "start_time": "2023-04-18T17:14:06.849Z"
   },
   {
    "duration": 1355,
    "start_time": "2023-04-18T17:14:39.676Z"
   },
   {
    "duration": 55,
    "start_time": "2023-04-18T17:14:41.034Z"
   },
   {
    "duration": 13,
    "start_time": "2023-04-18T17:14:41.091Z"
   },
   {
    "duration": 10,
    "start_time": "2023-04-18T17:14:41.105Z"
   },
   {
    "duration": 48,
    "start_time": "2023-04-18T17:14:41.118Z"
   },
   {
    "duration": 20,
    "start_time": "2023-04-18T17:14:41.168Z"
   },
   {
    "duration": 18,
    "start_time": "2023-04-18T17:14:41.189Z"
   },
   {
    "duration": 23,
    "start_time": "2023-04-18T17:14:41.209Z"
   },
   {
    "duration": 13,
    "start_time": "2023-04-18T17:14:41.234Z"
   },
   {
    "duration": 8,
    "start_time": "2023-04-18T17:14:41.249Z"
   },
   {
    "duration": 140,
    "start_time": "2023-04-18T17:14:41.259Z"
   },
   {
    "duration": 322,
    "start_time": "2023-04-18T17:14:41.486Z"
   },
   {
    "duration": 476,
    "start_time": "2023-04-18T17:14:41.810Z"
   },
   {
    "duration": 67,
    "start_time": "2023-04-18T17:16:31.419Z"
   },
   {
    "duration": 15,
    "start_time": "2023-04-18T17:16:46.514Z"
   },
   {
    "duration": 17,
    "start_time": "2023-04-18T17:17:35.226Z"
   },
   {
    "duration": 16,
    "start_time": "2023-04-18T17:17:46.543Z"
   },
   {
    "duration": 16,
    "start_time": "2023-04-18T17:17:53.799Z"
   },
   {
    "duration": 14,
    "start_time": "2023-04-18T17:17:58.880Z"
   },
   {
    "duration": 15,
    "start_time": "2023-04-18T17:18:08.650Z"
   },
   {
    "duration": 15,
    "start_time": "2023-04-18T17:18:17.443Z"
   },
   {
    "duration": 676,
    "start_time": "2023-04-18T17:18:30.910Z"
   },
   {
    "duration": 248,
    "start_time": "2023-04-18T17:19:16.339Z"
   },
   {
    "duration": 76,
    "start_time": "2023-04-18T17:20:09.222Z"
   },
   {
    "duration": 16,
    "start_time": "2023-04-18T17:20:17.630Z"
   },
   {
    "duration": 177,
    "start_time": "2023-04-18T17:20:19.916Z"
   },
   {
    "duration": 15,
    "start_time": "2023-04-18T17:20:39.349Z"
   },
   {
    "duration": 252,
    "start_time": "2023-04-18T17:20:41.335Z"
   },
   {
    "duration": 60,
    "start_time": "2023-04-18T17:21:11.026Z"
   },
   {
    "duration": 292,
    "start_time": "2023-04-18T17:25:15.880Z"
   },
   {
    "duration": 112,
    "start_time": "2023-04-18T17:26:20.384Z"
   },
   {
    "duration": 1430,
    "start_time": "2023-04-18T17:26:44.382Z"
   },
   {
    "duration": 58,
    "start_time": "2023-04-18T17:26:45.814Z"
   },
   {
    "duration": 13,
    "start_time": "2023-04-18T17:26:45.873Z"
   },
   {
    "duration": 5,
    "start_time": "2023-04-18T17:26:45.888Z"
   },
   {
    "duration": 42,
    "start_time": "2023-04-18T17:26:45.895Z"
   },
   {
    "duration": 14,
    "start_time": "2023-04-18T17:26:45.939Z"
   },
   {
    "duration": 33,
    "start_time": "2023-04-18T17:26:45.955Z"
   },
   {
    "duration": 21,
    "start_time": "2023-04-18T17:26:45.990Z"
   },
   {
    "duration": 14,
    "start_time": "2023-04-18T17:26:46.013Z"
   },
   {
    "duration": 6,
    "start_time": "2023-04-18T17:26:46.029Z"
   },
   {
    "duration": 159,
    "start_time": "2023-04-18T17:26:46.037Z"
   },
   {
    "duration": 426,
    "start_time": "2023-04-18T17:26:46.285Z"
   },
   {
    "duration": 17,
    "start_time": "2023-04-18T17:26:46.713Z"
   },
   {
    "duration": 65,
    "start_time": "2023-04-18T17:26:46.733Z"
   },
   {
    "duration": 399,
    "start_time": "2023-04-18T17:26:46.799Z"
   },
   {
    "duration": 1498,
    "start_time": "2023-04-20T16:09:58.041Z"
   },
   {
    "duration": 376,
    "start_time": "2023-04-20T16:09:59.541Z"
   },
   {
    "duration": 11,
    "start_time": "2023-04-20T16:09:59.919Z"
   },
   {
    "duration": 5,
    "start_time": "2023-04-20T16:09:59.933Z"
   },
   {
    "duration": 37,
    "start_time": "2023-04-20T16:09:59.940Z"
   },
   {
    "duration": 32,
    "start_time": "2023-04-20T16:09:59.979Z"
   },
   {
    "duration": 14,
    "start_time": "2023-04-20T16:10:00.013Z"
   },
   {
    "duration": 21,
    "start_time": "2023-04-20T16:10:00.029Z"
   },
   {
    "duration": 12,
    "start_time": "2023-04-20T16:10:00.052Z"
   },
   {
    "duration": 33,
    "start_time": "2023-04-20T16:10:00.066Z"
   },
   {
    "duration": 203,
    "start_time": "2023-04-20T16:10:00.101Z"
   },
   {
    "duration": 306,
    "start_time": "2023-04-20T16:10:00.305Z"
   },
   {
    "duration": 17,
    "start_time": "2023-04-20T16:10:00.613Z"
   },
   {
    "duration": 63,
    "start_time": "2023-04-20T16:10:00.632Z"
   },
   {
    "duration": 318,
    "start_time": "2023-04-20T16:10:00.697Z"
   },
   {
    "duration": 290,
    "start_time": "2023-04-20T16:10:01.016Z"
   },
   {
    "duration": 265900,
    "start_time": "2023-04-20T16:25:19.096Z"
   },
   {
    "duration": 51289,
    "start_time": "2023-04-20T16:32:32.521Z"
   },
   {
    "duration": 14473,
    "start_time": "2023-04-20T16:36:36.612Z"
   },
   {
    "duration": 19716,
    "start_time": "2023-04-20T16:46:53.417Z"
   },
   {
    "duration": 65005,
    "start_time": "2023-04-20T16:50:01.518Z"
   },
   {
    "duration": 71671,
    "start_time": "2023-04-20T16:51:49.610Z"
   },
   {
    "duration": 103354,
    "start_time": "2023-04-20T16:53:40.867Z"
   },
   {
    "duration": 53544,
    "start_time": "2023-04-20T16:55:49.216Z"
   },
   {
    "duration": 139,
    "start_time": "2023-04-20T16:58:23.976Z"
   },
   {
    "duration": 56,
    "start_time": "2023-04-20T17:06:59.057Z"
   },
   {
    "duration": 1276,
    "start_time": "2023-04-20T17:07:18.783Z"
   },
   {
    "duration": 52,
    "start_time": "2023-04-20T17:07:20.061Z"
   },
   {
    "duration": 11,
    "start_time": "2023-04-20T17:07:20.115Z"
   },
   {
    "duration": 4,
    "start_time": "2023-04-20T17:07:20.128Z"
   },
   {
    "duration": 36,
    "start_time": "2023-04-20T17:07:20.135Z"
   },
   {
    "duration": 33,
    "start_time": "2023-04-20T17:07:20.173Z"
   },
   {
    "duration": 14,
    "start_time": "2023-04-20T17:07:20.207Z"
   },
   {
    "duration": 18,
    "start_time": "2023-04-20T17:07:20.223Z"
   },
   {
    "duration": 11,
    "start_time": "2023-04-20T17:07:20.242Z"
   },
   {
    "duration": 5,
    "start_time": "2023-04-20T17:07:20.254Z"
   },
   {
    "duration": 142,
    "start_time": "2023-04-20T17:07:20.260Z"
   },
   {
    "duration": 391,
    "start_time": "2023-04-20T17:07:20.403Z"
   },
   {
    "duration": 15,
    "start_time": "2023-04-20T17:07:20.796Z"
   },
   {
    "duration": 82,
    "start_time": "2023-04-20T17:07:20.813Z"
   },
   {
    "duration": 299,
    "start_time": "2023-04-20T17:07:20.897Z"
   },
   {
    "duration": 53070,
    "start_time": "2023-04-20T17:07:21.197Z"
   },
   {
    "duration": 133,
    "start_time": "2023-04-20T17:08:14.269Z"
   },
   {
    "duration": 165,
    "start_time": "2023-04-20T17:08:14.404Z"
   },
   {
    "duration": 450,
    "start_time": "2023-04-20T17:08:42.063Z"
   },
   {
    "duration": 105,
    "start_time": "2023-04-20T17:09:56.255Z"
   },
   {
    "duration": 186,
    "start_time": "2023-04-20T17:11:31.788Z"
   },
   {
    "duration": 104,
    "start_time": "2023-04-20T17:13:09.210Z"
   },
   {
    "duration": 137,
    "start_time": "2023-04-20T17:23:56.457Z"
   },
   {
    "duration": 1287,
    "start_time": "2023-04-20T17:25:09.486Z"
   },
   {
    "duration": 55,
    "start_time": "2023-04-20T17:25:10.775Z"
   },
   {
    "duration": 11,
    "start_time": "2023-04-20T17:25:10.831Z"
   },
   {
    "duration": 4,
    "start_time": "2023-04-20T17:25:10.844Z"
   },
   {
    "duration": 45,
    "start_time": "2023-04-20T17:25:10.850Z"
   },
   {
    "duration": 13,
    "start_time": "2023-04-20T17:25:10.897Z"
   },
   {
    "duration": 11,
    "start_time": "2023-04-20T17:25:10.912Z"
   },
   {
    "duration": 19,
    "start_time": "2023-04-20T17:25:10.924Z"
   },
   {
    "duration": 11,
    "start_time": "2023-04-20T17:25:10.944Z"
   },
   {
    "duration": 5,
    "start_time": "2023-04-20T17:25:10.958Z"
   },
   {
    "duration": 140,
    "start_time": "2023-04-20T17:25:10.964Z"
   },
   {
    "duration": 314,
    "start_time": "2023-04-20T17:25:11.195Z"
   },
   {
    "duration": 15,
    "start_time": "2023-04-20T17:25:11.510Z"
   },
   {
    "duration": 68,
    "start_time": "2023-04-20T17:25:11.527Z"
   },
   {
    "duration": 336,
    "start_time": "2023-04-20T17:25:11.598Z"
   },
   {
    "duration": 52608,
    "start_time": "2023-04-20T17:25:11.936Z"
   },
   {
    "duration": 140,
    "start_time": "2023-04-20T17:26:04.545Z"
   },
   {
    "duration": 433,
    "start_time": "2023-04-20T17:26:04.687Z"
   },
   {
    "duration": 112,
    "start_time": "2023-04-20T17:26:05.121Z"
   },
   {
    "duration": 22,
    "start_time": "2023-04-20T17:26:05.235Z"
   },
   {
    "duration": 196,
    "start_time": "2023-04-20T17:28:08.346Z"
   },
   {
    "duration": 1253,
    "start_time": "2023-04-20T17:28:52.235Z"
   },
   {
    "duration": 63,
    "start_time": "2023-04-20T17:28:53.490Z"
   },
   {
    "duration": 12,
    "start_time": "2023-04-20T17:28:53.555Z"
   },
   {
    "duration": 4,
    "start_time": "2023-04-20T17:28:53.569Z"
   },
   {
    "duration": 36,
    "start_time": "2023-04-20T17:28:53.575Z"
   },
   {
    "duration": 14,
    "start_time": "2023-04-20T17:28:53.612Z"
   },
   {
    "duration": 12,
    "start_time": "2023-04-20T17:28:53.627Z"
   },
   {
    "duration": 18,
    "start_time": "2023-04-20T17:28:53.640Z"
   },
   {
    "duration": 36,
    "start_time": "2023-04-20T17:28:53.660Z"
   },
   {
    "duration": 8,
    "start_time": "2023-04-20T17:28:53.698Z"
   },
   {
    "duration": 287,
    "start_time": "2023-04-20T17:28:53.708Z"
   },
   {
    "duration": 323,
    "start_time": "2023-04-20T17:28:53.997Z"
   },
   {
    "duration": 22,
    "start_time": "2023-04-20T17:28:54.323Z"
   },
   {
    "duration": 47,
    "start_time": "2023-04-20T17:28:54.348Z"
   },
   {
    "duration": 277,
    "start_time": "2023-04-20T17:28:54.397Z"
   },
   {
    "duration": 52094,
    "start_time": "2023-04-20T17:28:54.676Z"
   },
   {
    "duration": 135,
    "start_time": "2023-04-20T17:29:46.772Z"
   },
   {
    "duration": 427,
    "start_time": "2023-04-20T17:29:46.908Z"
   },
   {
    "duration": 124,
    "start_time": "2023-04-20T17:29:47.336Z"
   },
   {
    "duration": 33,
    "start_time": "2023-04-20T17:29:47.462Z"
   },
   {
    "duration": 197,
    "start_time": "2023-04-20T17:29:47.497Z"
   },
   {
    "duration": 101,
    "start_time": "2023-04-20T17:32:23.896Z"
   },
   {
    "duration": 12,
    "start_time": "2023-04-20T17:35:43.533Z"
   },
   {
    "duration": 109,
    "start_time": "2023-04-20T17:36:05.830Z"
   },
   {
    "duration": 1557,
    "start_time": "2023-04-21T07:53:01.418Z"
   },
   {
    "duration": 103,
    "start_time": "2023-04-21T07:53:02.978Z"
   },
   {
    "duration": 12,
    "start_time": "2023-04-21T07:53:03.082Z"
   },
   {
    "duration": 13,
    "start_time": "2023-04-21T07:53:03.096Z"
   },
   {
    "duration": 50,
    "start_time": "2023-04-21T07:53:03.110Z"
   },
   {
    "duration": 13,
    "start_time": "2023-04-21T07:53:03.162Z"
   },
   {
    "duration": 28,
    "start_time": "2023-04-21T07:53:03.177Z"
   },
   {
    "duration": 19,
    "start_time": "2023-04-21T07:53:03.207Z"
   },
   {
    "duration": 19,
    "start_time": "2023-04-21T07:53:03.228Z"
   },
   {
    "duration": 6,
    "start_time": "2023-04-21T07:53:03.249Z"
   },
   {
    "duration": 196,
    "start_time": "2023-04-21T07:53:03.257Z"
   },
   {
    "duration": 399,
    "start_time": "2023-04-21T07:53:03.454Z"
   },
   {
    "duration": 14,
    "start_time": "2023-04-21T07:53:03.855Z"
   },
   {
    "duration": 79,
    "start_time": "2023-04-21T07:53:03.870Z"
   },
   {
    "duration": 400,
    "start_time": "2023-04-21T07:53:03.951Z"
   },
   {
    "duration": 64168,
    "start_time": "2023-04-21T07:53:04.353Z"
   },
   {
    "duration": 147,
    "start_time": "2023-04-21T07:54:08.522Z"
   },
   {
    "duration": 520,
    "start_time": "2023-04-21T07:54:08.671Z"
   },
   {
    "duration": 152,
    "start_time": "2023-04-21T07:54:09.193Z"
   },
   {
    "duration": 24,
    "start_time": "2023-04-21T07:54:09.350Z"
   },
   {
    "duration": 216,
    "start_time": "2023-04-21T07:54:09.376Z"
   },
   {
    "duration": 123,
    "start_time": "2023-04-21T07:54:09.594Z"
   },
   {
    "duration": 1429,
    "start_time": "2023-04-21T08:26:04.868Z"
   },
   {
    "duration": 57,
    "start_time": "2023-04-21T08:26:06.298Z"
   },
   {
    "duration": 12,
    "start_time": "2023-04-21T08:26:06.356Z"
   },
   {
    "duration": 5,
    "start_time": "2023-04-21T08:26:06.370Z"
   },
   {
    "duration": 38,
    "start_time": "2023-04-21T08:26:06.376Z"
   },
   {
    "duration": 34,
    "start_time": "2023-04-21T08:26:06.415Z"
   },
   {
    "duration": 13,
    "start_time": "2023-04-21T08:26:06.452Z"
   },
   {
    "duration": 50,
    "start_time": "2023-04-21T08:26:06.467Z"
   },
   {
    "duration": 17,
    "start_time": "2023-04-21T08:26:06.519Z"
   },
   {
    "duration": 18,
    "start_time": "2023-04-21T08:26:06.539Z"
   },
   {
    "duration": 190,
    "start_time": "2023-04-21T08:26:06.559Z"
   },
   {
    "duration": 351,
    "start_time": "2023-04-21T08:26:06.751Z"
   },
   {
    "duration": 0,
    "start_time": "2023-04-21T08:26:07.104Z"
   },
   {
    "duration": 0,
    "start_time": "2023-04-21T08:26:07.104Z"
   },
   {
    "duration": 1,
    "start_time": "2023-04-21T08:26:07.105Z"
   },
   {
    "duration": 0,
    "start_time": "2023-04-21T08:26:07.106Z"
   },
   {
    "duration": 0,
    "start_time": "2023-04-21T08:26:07.108Z"
   },
   {
    "duration": 0,
    "start_time": "2023-04-21T08:26:07.109Z"
   },
   {
    "duration": 0,
    "start_time": "2023-04-21T08:26:07.110Z"
   },
   {
    "duration": 0,
    "start_time": "2023-04-21T08:26:07.111Z"
   },
   {
    "duration": 0,
    "start_time": "2023-04-21T08:26:07.112Z"
   },
   {
    "duration": 0,
    "start_time": "2023-04-21T08:26:07.113Z"
   },
   {
    "duration": 1359,
    "start_time": "2023-04-21T08:27:47.259Z"
   },
   {
    "duration": 55,
    "start_time": "2023-04-21T08:27:48.620Z"
   },
   {
    "duration": 12,
    "start_time": "2023-04-21T08:27:48.677Z"
   },
   {
    "duration": 19,
    "start_time": "2023-04-21T08:27:48.690Z"
   },
   {
    "duration": 41,
    "start_time": "2023-04-21T08:27:48.711Z"
   },
   {
    "duration": 13,
    "start_time": "2023-04-21T08:27:48.754Z"
   },
   {
    "duration": 19,
    "start_time": "2023-04-21T08:27:48.769Z"
   },
   {
    "duration": 19,
    "start_time": "2023-04-21T08:27:48.790Z"
   },
   {
    "duration": 15,
    "start_time": "2023-04-21T08:27:48.810Z"
   },
   {
    "duration": 26,
    "start_time": "2023-04-21T08:27:48.828Z"
   },
   {
    "duration": 100,
    "start_time": "2023-04-21T08:27:48.855Z"
   },
   {
    "duration": 392,
    "start_time": "2023-04-21T08:27:48.957Z"
   },
   {
    "duration": 14,
    "start_time": "2023-04-21T08:27:49.351Z"
   },
   {
    "duration": 41,
    "start_time": "2023-04-21T08:27:49.367Z"
   },
   {
    "duration": 286,
    "start_time": "2023-04-21T08:27:49.449Z"
   },
   {
    "duration": 62140,
    "start_time": "2023-04-21T08:27:49.737Z"
   },
   {
    "duration": 132,
    "start_time": "2023-04-21T08:28:51.879Z"
   },
   {
    "duration": 515,
    "start_time": "2023-04-21T08:28:52.013Z"
   },
   {
    "duration": 106,
    "start_time": "2023-04-21T08:28:52.530Z"
   },
   {
    "duration": 27,
    "start_time": "2023-04-21T08:28:52.637Z"
   },
   {
    "duration": 179,
    "start_time": "2023-04-21T08:28:52.665Z"
   },
   {
    "duration": 109,
    "start_time": "2023-04-21T08:28:52.845Z"
   },
   {
    "duration": 1661,
    "start_time": "2023-04-24T15:28:28.637Z"
   },
   {
    "duration": 115,
    "start_time": "2023-04-24T15:28:30.301Z"
   },
   {
    "duration": 19,
    "start_time": "2023-04-24T15:28:30.419Z"
   },
   {
    "duration": 35,
    "start_time": "2023-04-24T15:28:30.440Z"
   },
   {
    "duration": 92,
    "start_time": "2023-04-24T15:28:30.478Z"
   },
   {
    "duration": 22,
    "start_time": "2023-04-24T15:28:30.573Z"
   },
   {
    "duration": 62,
    "start_time": "2023-04-24T15:28:30.597Z"
   },
   {
    "duration": 60,
    "start_time": "2023-04-24T15:28:30.661Z"
   },
   {
    "duration": 31,
    "start_time": "2023-04-24T15:28:30.723Z"
   },
   {
    "duration": 63,
    "start_time": "2023-04-24T15:28:30.757Z"
   },
   {
    "duration": 268,
    "start_time": "2023-04-24T15:28:30.822Z"
   },
   {
    "duration": 405,
    "start_time": "2023-04-24T15:28:31.098Z"
   },
   {
    "duration": 17,
    "start_time": "2023-04-24T15:28:31.505Z"
   },
   {
    "duration": 64,
    "start_time": "2023-04-24T15:28:31.525Z"
   },
   {
    "duration": 428,
    "start_time": "2023-04-24T15:28:31.591Z"
   },
   {
    "duration": 48705,
    "start_time": "2023-04-24T15:28:32.021Z"
   },
   {
    "duration": 165,
    "start_time": "2023-04-24T15:29:20.728Z"
   },
   {
    "duration": 433,
    "start_time": "2023-04-24T15:29:20.895Z"
   },
   {
    "duration": 227,
    "start_time": "2023-04-24T15:29:21.330Z"
   },
   {
    "duration": 42,
    "start_time": "2023-04-24T15:29:21.558Z"
   },
   {
    "duration": 160,
    "start_time": "2023-04-24T15:29:21.602Z"
   },
   {
    "duration": 140,
    "start_time": "2023-04-24T15:29:21.764Z"
   },
   {
    "duration": 1497,
    "start_time": "2023-04-24T15:31:12.497Z"
   },
   {
    "duration": 64,
    "start_time": "2023-04-24T15:31:13.997Z"
   },
   {
    "duration": 14,
    "start_time": "2023-04-24T15:31:14.063Z"
   },
   {
    "duration": 5,
    "start_time": "2023-04-24T15:31:14.078Z"
   },
   {
    "duration": 55,
    "start_time": "2023-04-24T15:31:14.085Z"
   },
   {
    "duration": 15,
    "start_time": "2023-04-24T15:31:14.142Z"
   },
   {
    "duration": 26,
    "start_time": "2023-04-24T15:31:14.158Z"
   },
   {
    "duration": 25,
    "start_time": "2023-04-24T15:31:14.186Z"
   },
   {
    "duration": 28,
    "start_time": "2023-04-24T15:31:14.212Z"
   },
   {
    "duration": 11,
    "start_time": "2023-04-24T15:31:14.242Z"
   },
   {
    "duration": 238,
    "start_time": "2023-04-24T15:31:14.254Z"
   },
   {
    "duration": 422,
    "start_time": "2023-04-24T15:31:14.494Z"
   },
   {
    "duration": 17,
    "start_time": "2023-04-24T15:31:14.918Z"
   },
   {
    "duration": 51,
    "start_time": "2023-04-24T15:31:14.938Z"
   },
   {
    "duration": 408,
    "start_time": "2023-04-24T15:31:14.992Z"
   },
   {
    "duration": 70129,
    "start_time": "2023-04-24T15:31:15.402Z"
   },
   {
    "duration": 163,
    "start_time": "2023-04-24T15:32:25.533Z"
   },
   {
    "duration": 439,
    "start_time": "2023-04-24T15:32:25.698Z"
   },
   {
    "duration": 143,
    "start_time": "2023-04-24T15:32:26.138Z"
   },
   {
    "duration": 36,
    "start_time": "2023-04-24T15:32:26.288Z"
   },
   {
    "duration": 271,
    "start_time": "2023-04-24T15:32:26.326Z"
   },
   {
    "duration": 141,
    "start_time": "2023-04-24T15:32:26.599Z"
   },
   {
    "duration": 3000,
    "start_time": "2023-04-26T07:12:40.117Z"
   },
   {
    "duration": 196,
    "start_time": "2023-04-26T07:12:43.120Z"
   },
   {
    "duration": 14,
    "start_time": "2023-04-26T07:12:43.318Z"
   },
   {
    "duration": 6,
    "start_time": "2023-04-26T07:12:43.335Z"
   },
   {
    "duration": 43,
    "start_time": "2023-04-26T07:12:43.343Z"
   },
   {
    "duration": 16,
    "start_time": "2023-04-26T07:12:43.388Z"
   },
   {
    "duration": 13,
    "start_time": "2023-04-26T07:12:43.406Z"
   },
   {
    "duration": 41,
    "start_time": "2023-04-26T07:12:43.421Z"
   },
   {
    "duration": 14,
    "start_time": "2023-04-26T07:12:43.463Z"
   },
   {
    "duration": 6,
    "start_time": "2023-04-26T07:12:43.480Z"
   },
   {
    "duration": 86,
    "start_time": "2023-04-26T07:12:43.488Z"
   },
   {
    "duration": 410,
    "start_time": "2023-04-26T07:12:43.576Z"
   },
   {
    "duration": 23,
    "start_time": "2023-04-26T07:12:43.988Z"
   },
   {
    "duration": 156,
    "start_time": "2023-04-26T07:12:44.013Z"
   },
   {
    "duration": 312,
    "start_time": "2023-04-26T07:12:44.173Z"
   },
   {
    "duration": 72265,
    "start_time": "2023-04-26T07:12:44.487Z"
   },
   {
    "duration": 251,
    "start_time": "2023-04-26T07:13:56.756Z"
   },
   {
    "duration": 637,
    "start_time": "2023-04-26T07:13:57.009Z"
   },
   {
    "duration": 235,
    "start_time": "2023-04-26T07:13:57.648Z"
   },
   {
    "duration": 45,
    "start_time": "2023-04-26T07:13:57.885Z"
   },
   {
    "duration": 255,
    "start_time": "2023-04-26T07:13:57.932Z"
   },
   {
    "duration": 151,
    "start_time": "2023-04-26T07:13:58.189Z"
   },
   {
    "duration": 1779,
    "start_time": "2023-04-26T12:50:01.857Z"
   },
   {
    "duration": 195,
    "start_time": "2023-04-26T12:50:03.638Z"
   },
   {
    "duration": 17,
    "start_time": "2023-04-26T12:50:03.839Z"
   },
   {
    "duration": 26,
    "start_time": "2023-04-26T12:50:03.858Z"
   },
   {
    "duration": 75,
    "start_time": "2023-04-26T12:50:03.886Z"
   },
   {
    "duration": 20,
    "start_time": "2023-04-26T12:50:03.963Z"
   },
   {
    "duration": 33,
    "start_time": "2023-04-26T12:50:03.984Z"
   },
   {
    "duration": 48,
    "start_time": "2023-04-26T12:50:04.020Z"
   },
   {
    "duration": 37,
    "start_time": "2023-04-26T12:50:04.072Z"
   },
   {
    "duration": 121,
    "start_time": "2023-04-26T12:50:04.111Z"
   },
   {
    "duration": 0,
    "start_time": "2023-04-26T12:50:04.234Z"
   },
   {
    "duration": 0,
    "start_time": "2023-04-26T12:50:04.236Z"
   },
   {
    "duration": 0,
    "start_time": "2023-04-26T12:50:04.238Z"
   },
   {
    "duration": 0,
    "start_time": "2023-04-26T12:50:04.239Z"
   },
   {
    "duration": 0,
    "start_time": "2023-04-26T12:50:04.241Z"
   },
   {
    "duration": 0,
    "start_time": "2023-04-26T12:50:04.242Z"
   },
   {
    "duration": 0,
    "start_time": "2023-04-26T12:50:04.244Z"
   },
   {
    "duration": 0,
    "start_time": "2023-04-26T12:50:04.245Z"
   },
   {
    "duration": 0,
    "start_time": "2023-04-26T12:50:04.247Z"
   },
   {
    "duration": 0,
    "start_time": "2023-04-26T12:50:04.249Z"
   },
   {
    "duration": 0,
    "start_time": "2023-04-26T12:50:04.250Z"
   },
   {
    "duration": 0,
    "start_time": "2023-04-26T12:50:04.252Z"
   },
   {
    "duration": 1379,
    "start_time": "2023-04-26T12:51:43.079Z"
   },
   {
    "duration": 68,
    "start_time": "2023-04-26T12:51:44.461Z"
   },
   {
    "duration": 13,
    "start_time": "2023-04-26T12:51:44.530Z"
   },
   {
    "duration": 17,
    "start_time": "2023-04-26T12:51:44.545Z"
   },
   {
    "duration": 53,
    "start_time": "2023-04-26T12:51:44.565Z"
   },
   {
    "duration": 16,
    "start_time": "2023-04-26T12:51:44.620Z"
   },
   {
    "duration": 12,
    "start_time": "2023-04-26T12:51:44.638Z"
   },
   {
    "duration": 31,
    "start_time": "2023-04-26T12:51:44.652Z"
   },
   {
    "duration": 35,
    "start_time": "2023-04-26T12:51:44.693Z"
   },
   {
    "duration": 6,
    "start_time": "2023-04-26T12:51:44.730Z"
   },
   {
    "duration": 356,
    "start_time": "2023-04-26T12:51:44.738Z"
   },
   {
    "duration": 320,
    "start_time": "2023-04-26T12:51:45.096Z"
   },
   {
    "duration": 16,
    "start_time": "2023-04-26T12:51:45.418Z"
   },
   {
    "duration": 65,
    "start_time": "2023-04-26T12:51:45.437Z"
   },
   {
    "duration": 396,
    "start_time": "2023-04-26T12:51:45.504Z"
   },
   {
    "duration": 1698,
    "start_time": "2023-04-26T12:52:10.837Z"
   },
   {
    "duration": 84,
    "start_time": "2023-04-26T12:52:12.538Z"
   },
   {
    "duration": 19,
    "start_time": "2023-04-26T12:52:12.624Z"
   },
   {
    "duration": 62,
    "start_time": "2023-04-26T12:52:12.647Z"
   },
   {
    "duration": 77,
    "start_time": "2023-04-26T12:52:12.712Z"
   },
   {
    "duration": 28,
    "start_time": "2023-04-26T12:52:12.791Z"
   },
   {
    "duration": 14,
    "start_time": "2023-04-26T12:52:12.822Z"
   },
   {
    "duration": 30,
    "start_time": "2023-04-26T12:52:12.838Z"
   },
   {
    "duration": 71,
    "start_time": "2023-04-26T12:52:12.871Z"
   },
   {
    "duration": 7,
    "start_time": "2023-04-26T12:52:12.944Z"
   },
   {
    "duration": 143,
    "start_time": "2023-04-26T12:52:12.953Z"
   },
   {
    "duration": 327,
    "start_time": "2023-04-26T12:52:13.102Z"
   },
   {
    "duration": 22,
    "start_time": "2023-04-26T12:52:13.431Z"
   },
   {
    "duration": 63,
    "start_time": "2023-04-26T12:52:13.457Z"
   },
   {
    "duration": 371,
    "start_time": "2023-04-26T12:52:13.525Z"
   },
   {
    "duration": 70440,
    "start_time": "2023-04-26T12:52:13.900Z"
   },
   {
    "duration": 209,
    "start_time": "2023-04-26T12:53:24.342Z"
   },
   {
    "duration": 431,
    "start_time": "2023-04-26T12:53:24.552Z"
   },
   {
    "duration": 176,
    "start_time": "2023-04-26T12:53:24.986Z"
   },
   {
    "duration": 59,
    "start_time": "2023-04-26T12:53:25.165Z"
   },
   {
    "duration": 316,
    "start_time": "2023-04-26T12:53:25.227Z"
   },
   {
    "duration": 154,
    "start_time": "2023-04-26T12:53:25.545Z"
   }
  ],
  "kernelspec": {
   "display_name": "Python 3 (ipykernel)",
   "language": "python",
   "name": "python3"
  },
  "language_info": {
   "codemirror_mode": {
    "name": "ipython",
    "version": 3
   },
   "file_extension": ".py",
   "mimetype": "text/x-python",
   "name": "python",
   "nbconvert_exporter": "python",
   "pygments_lexer": "ipython3",
   "version": "3.9.13"
  },
  "toc": {
   "base_numbering": 1,
   "nav_menu": {},
   "number_sections": true,
   "sideBar": true,
   "skip_h1_title": true,
   "title_cell": "Содержание",
   "title_sidebar": "Contents",
   "toc_cell": true,
   "toc_position": {
    "height": "calc(100% - 180px)",
    "left": "10px",
    "top": "150px",
    "width": "339px"
   },
   "toc_section_display": true,
   "toc_window_display": true
  }
 },
 "nbformat": 4,
 "nbformat_minor": 2
}
